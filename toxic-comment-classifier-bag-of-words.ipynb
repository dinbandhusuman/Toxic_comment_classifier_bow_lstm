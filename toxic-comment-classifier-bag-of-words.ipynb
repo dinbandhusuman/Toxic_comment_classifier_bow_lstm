{
 "cells": [
  {
   "cell_type": "code",
   "execution_count": 1,
   "id": "b6533dfe",
   "metadata": {
    "_cell_guid": "b1076dfc-b9ad-4769-8c92-a6c4dae69d19",
    "_uuid": "8f2839f25d086af736a60e9eeb907d3b93b6e0e5",
    "execution": {
     "iopub.execute_input": "2023-03-31T08:23:27.515157Z",
     "iopub.status.busy": "2023-03-31T08:23:27.514739Z",
     "iopub.status.idle": "2023-03-31T08:23:27.535437Z",
     "shell.execute_reply": "2023-03-31T08:23:27.534406Z"
    },
    "papermill": {
     "duration": 0.040626,
     "end_time": "2023-03-31T08:23:27.538603",
     "exception": false,
     "start_time": "2023-03-31T08:23:27.497977",
     "status": "completed"
    },
    "tags": []
   },
   "outputs": [
    {
     "name": "stdout",
     "output_type": "stream",
     "text": [
      "/kaggle/input/toxic-comment/toxic_test.csv\n",
      "/kaggle/input/toxic-comment/toxic_train.csv\n",
      "/kaggle/input/toxic-comment/toxic_test_labels.csv\n"
     ]
    }
   ],
   "source": [
    "# This Python 3 environment comes with many helpful analytics libraries installed\n",
    "# It is defined by the kaggle/python Docker image: https://github.com/kaggle/docker-python\n",
    "# For example, here's several helpful packages to load\n",
    "\n",
    "import numpy as np # linear algebra\n",
    "import pandas as pd # data processing, CSV file I/O (e.g. pd.read_csv)\n",
    "\n",
    "# Input data files are available in the read-only \"../input/\" directory\n",
    "# For example, running this (by clicking run or pressing Shift+Enter) will list all files under the input directory\n",
    "\n",
    "import os\n",
    "for dirname, _, filenames in os.walk('/kaggle/input'):\n",
    "    for filename in filenames:\n",
    "        print(os.path.join(dirname, filename))\n",
    "\n",
    "# You can write up to 20GB to the current directory (/kaggle/working/) that gets preserved as output when you create a version using \"Save & Run All\" \n",
    "# You can also write temporary files to /kaggle/temp/, but they won't be saved outside of the current session"
   ]
  },
  {
   "cell_type": "markdown",
   "id": "d65c2b19",
   "metadata": {
    "papermill": {
     "duration": 0.012391,
     "end_time": "2023-03-31T08:23:27.564080",
     "exception": false,
     "start_time": "2023-03-31T08:23:27.551689",
     "status": "completed"
    },
    "tags": []
   },
   "source": [
    "# Process of solving nlp task ---\n",
    "preprocessing -\n",
    "tokenization-word tokenixation\n",
    "noralization-stemmization,lemmatization\n",
    "vectorixation-bag of words(count vector,tf-idf)"
   ]
  },
  {
   "cell_type": "code",
   "execution_count": 2,
   "id": "ce281a95",
   "metadata": {
    "execution": {
     "iopub.execute_input": "2023-03-31T08:23:27.591971Z",
     "iopub.status.busy": "2023-03-31T08:23:27.591578Z",
     "iopub.status.idle": "2023-03-31T08:23:29.624866Z",
     "shell.execute_reply": "2023-03-31T08:23:29.623275Z"
    },
    "papermill": {
     "duration": 2.050693,
     "end_time": "2023-03-31T08:23:29.627731",
     "exception": false,
     "start_time": "2023-03-31T08:23:27.577038",
     "status": "completed"
    },
    "tags": []
   },
   "outputs": [],
   "source": [
    "from sklearn.feature_extraction.text import CountVectorizer,TfidfVectorizer\n",
    "import nltk\n",
    "from sklearn.naive_bayes import MultinomialNB\n",
    "from sklearn import metrics\n",
    "import seaborn as sns\n",
    "import matplotlib.pyplot as plt"
   ]
  },
  {
   "cell_type": "code",
   "execution_count": 3,
   "id": "9a9cd58e",
   "metadata": {
    "execution": {
     "iopub.execute_input": "2023-03-31T08:23:29.656565Z",
     "iopub.status.busy": "2023-03-31T08:23:29.656132Z",
     "iopub.status.idle": "2023-03-31T08:23:31.869152Z",
     "shell.execute_reply": "2023-03-31T08:23:31.867963Z"
    },
    "papermill": {
     "duration": 2.230243,
     "end_time": "2023-03-31T08:23:31.872043",
     "exception": false,
     "start_time": "2023-03-31T08:23:29.641800",
     "status": "completed"
    },
    "tags": []
   },
   "outputs": [],
   "source": [
    "train_df = pd.read_csv('/kaggle/input/toxic-comment/toxic_train.csv')"
   ]
  },
  {
   "cell_type": "code",
   "execution_count": 4,
   "id": "1c4486e3",
   "metadata": {
    "execution": {
     "iopub.execute_input": "2023-03-31T08:23:31.899583Z",
     "iopub.status.busy": "2023-03-31T08:23:31.899113Z",
     "iopub.status.idle": "2023-03-31T08:23:31.930853Z",
     "shell.execute_reply": "2023-03-31T08:23:31.929486Z"
    },
    "papermill": {
     "duration": 0.048437,
     "end_time": "2023-03-31T08:23:31.933416",
     "exception": false,
     "start_time": "2023-03-31T08:23:31.884979",
     "status": "completed"
    },
    "tags": []
   },
   "outputs": [
    {
     "data": {
      "text/html": [
       "<div>\n",
       "<style scoped>\n",
       "    .dataframe tbody tr th:only-of-type {\n",
       "        vertical-align: middle;\n",
       "    }\n",
       "\n",
       "    .dataframe tbody tr th {\n",
       "        vertical-align: top;\n",
       "    }\n",
       "\n",
       "    .dataframe thead th {\n",
       "        text-align: right;\n",
       "    }\n",
       "</style>\n",
       "<table border=\"1\" class=\"dataframe\">\n",
       "  <thead>\n",
       "    <tr style=\"text-align: right;\">\n",
       "      <th></th>\n",
       "      <th>id</th>\n",
       "      <th>comment_text</th>\n",
       "      <th>toxic</th>\n",
       "      <th>severe_toxic</th>\n",
       "      <th>obscene</th>\n",
       "      <th>threat</th>\n",
       "      <th>insult</th>\n",
       "      <th>identity_hate</th>\n",
       "    </tr>\n",
       "  </thead>\n",
       "  <tbody>\n",
       "    <tr>\n",
       "      <th>0</th>\n",
       "      <td>0000997932d777bf</td>\n",
       "      <td>Explanation\\nWhy the edits made under my usern...</td>\n",
       "      <td>0</td>\n",
       "      <td>0</td>\n",
       "      <td>0</td>\n",
       "      <td>0</td>\n",
       "      <td>0</td>\n",
       "      <td>0</td>\n",
       "    </tr>\n",
       "    <tr>\n",
       "      <th>1</th>\n",
       "      <td>000103f0d9cfb60f</td>\n",
       "      <td>D'aww! He matches this background colour I'm s...</td>\n",
       "      <td>0</td>\n",
       "      <td>0</td>\n",
       "      <td>0</td>\n",
       "      <td>0</td>\n",
       "      <td>0</td>\n",
       "      <td>0</td>\n",
       "    </tr>\n",
       "    <tr>\n",
       "      <th>2</th>\n",
       "      <td>000113f07ec002fd</td>\n",
       "      <td>Hey man, I'm really not trying to edit war. It...</td>\n",
       "      <td>0</td>\n",
       "      <td>0</td>\n",
       "      <td>0</td>\n",
       "      <td>0</td>\n",
       "      <td>0</td>\n",
       "      <td>0</td>\n",
       "    </tr>\n",
       "    <tr>\n",
       "      <th>3</th>\n",
       "      <td>0001b41b1c6bb37e</td>\n",
       "      <td>\"\\nMore\\nI can't make any real suggestions on ...</td>\n",
       "      <td>0</td>\n",
       "      <td>0</td>\n",
       "      <td>0</td>\n",
       "      <td>0</td>\n",
       "      <td>0</td>\n",
       "      <td>0</td>\n",
       "    </tr>\n",
       "    <tr>\n",
       "      <th>4</th>\n",
       "      <td>0001d958c54c6e35</td>\n",
       "      <td>You, sir, are my hero. Any chance you remember...</td>\n",
       "      <td>0</td>\n",
       "      <td>0</td>\n",
       "      <td>0</td>\n",
       "      <td>0</td>\n",
       "      <td>0</td>\n",
       "      <td>0</td>\n",
       "    </tr>\n",
       "  </tbody>\n",
       "</table>\n",
       "</div>"
      ],
      "text/plain": [
       "                 id                                       comment_text  toxic  \\\n",
       "0  0000997932d777bf  Explanation\\nWhy the edits made under my usern...      0   \n",
       "1  000103f0d9cfb60f  D'aww! He matches this background colour I'm s...      0   \n",
       "2  000113f07ec002fd  Hey man, I'm really not trying to edit war. It...      0   \n",
       "3  0001b41b1c6bb37e  \"\\nMore\\nI can't make any real suggestions on ...      0   \n",
       "4  0001d958c54c6e35  You, sir, are my hero. Any chance you remember...      0   \n",
       "\n",
       "   severe_toxic  obscene  threat  insult  identity_hate  \n",
       "0             0        0       0       0              0  \n",
       "1             0        0       0       0              0  \n",
       "2             0        0       0       0              0  \n",
       "3             0        0       0       0              0  \n",
       "4             0        0       0       0              0  "
      ]
     },
     "execution_count": 4,
     "metadata": {},
     "output_type": "execute_result"
    }
   ],
   "source": [
    "train_df.head()"
   ]
  },
  {
   "cell_type": "code",
   "execution_count": 5,
   "id": "32317f09",
   "metadata": {
    "execution": {
     "iopub.execute_input": "2023-03-31T08:23:31.961880Z",
     "iopub.status.busy": "2023-03-31T08:23:31.961458Z",
     "iopub.status.idle": "2023-03-31T08:23:32.020665Z",
     "shell.execute_reply": "2023-03-31T08:23:32.017827Z"
    },
    "papermill": {
     "duration": 0.077006,
     "end_time": "2023-03-31T08:23:32.023633",
     "exception": false,
     "start_time": "2023-03-31T08:23:31.946627",
     "status": "completed"
    },
    "tags": []
   },
   "outputs": [
    {
     "name": "stdout",
     "output_type": "stream",
     "text": [
      "<class 'pandas.core.frame.DataFrame'>\n",
      "RangeIndex: 159571 entries, 0 to 159570\n",
      "Data columns (total 8 columns):\n",
      " #   Column         Non-Null Count   Dtype \n",
      "---  ------         --------------   ----- \n",
      " 0   id             159571 non-null  object\n",
      " 1   comment_text   159571 non-null  object\n",
      " 2   toxic          159571 non-null  int64 \n",
      " 3   severe_toxic   159571 non-null  int64 \n",
      " 4   obscene        159571 non-null  int64 \n",
      " 5   threat         159571 non-null  int64 \n",
      " 6   insult         159571 non-null  int64 \n",
      " 7   identity_hate  159571 non-null  int64 \n",
      "dtypes: int64(6), object(2)\n",
      "memory usage: 9.7+ MB\n"
     ]
    }
   ],
   "source": [
    "train_df.info()"
   ]
  },
  {
   "cell_type": "markdown",
   "id": "36bc2eb0",
   "metadata": {
    "papermill": {
     "duration": 0.012719,
     "end_time": "2023-03-31T08:23:32.049567",
     "exception": false,
     "start_time": "2023-03-31T08:23:32.036848",
     "status": "completed"
    },
    "tags": []
   },
   "source": [
    "No issing value are there.."
   ]
  },
  {
   "cell_type": "code",
   "execution_count": 6,
   "id": "cbe120d7",
   "metadata": {
    "execution": {
     "iopub.execute_input": "2023-03-31T08:23:32.078161Z",
     "iopub.status.busy": "2023-03-31T08:23:32.076919Z",
     "iopub.status.idle": "2023-03-31T08:23:32.376510Z",
     "shell.execute_reply": "2023-03-31T08:23:32.375137Z"
    },
    "papermill": {
     "duration": 0.316828,
     "end_time": "2023-03-31T08:23:32.379353",
     "exception": false,
     "start_time": "2023-03-31T08:23:32.062525",
     "status": "completed"
    },
    "tags": []
   },
   "outputs": [
    {
     "data": {
      "text/plain": [
       "0"
      ]
     },
     "execution_count": 6,
     "metadata": {},
     "output_type": "execute_result"
    }
   ],
   "source": [
    "#check duplicate---\n",
    "train_df.duplicated().sum()"
   ]
  },
  {
   "cell_type": "code",
   "execution_count": 7,
   "id": "f3027583",
   "metadata": {
    "execution": {
     "iopub.execute_input": "2023-03-31T08:23:32.408728Z",
     "iopub.status.busy": "2023-03-31T08:23:32.408258Z",
     "iopub.status.idle": "2023-03-31T08:23:32.463017Z",
     "shell.execute_reply": "2023-03-31T08:23:32.461629Z"
    },
    "papermill": {
     "duration": 0.072984,
     "end_time": "2023-03-31T08:23:32.465735",
     "exception": false,
     "start_time": "2023-03-31T08:23:32.392751",
     "status": "completed"
    },
    "tags": []
   },
   "outputs": [
    {
     "data": {
      "text/html": [
       "<div>\n",
       "<style scoped>\n",
       "    .dataframe tbody tr th:only-of-type {\n",
       "        vertical-align: middle;\n",
       "    }\n",
       "\n",
       "    .dataframe tbody tr th {\n",
       "        vertical-align: top;\n",
       "    }\n",
       "\n",
       "    .dataframe thead th {\n",
       "        text-align: right;\n",
       "    }\n",
       "</style>\n",
       "<table border=\"1\" class=\"dataframe\">\n",
       "  <thead>\n",
       "    <tr style=\"text-align: right;\">\n",
       "      <th></th>\n",
       "      <th>toxic</th>\n",
       "      <th>severe_toxic</th>\n",
       "      <th>obscene</th>\n",
       "      <th>threat</th>\n",
       "      <th>insult</th>\n",
       "      <th>identity_hate</th>\n",
       "    </tr>\n",
       "  </thead>\n",
       "  <tbody>\n",
       "    <tr>\n",
       "      <th>count</th>\n",
       "      <td>159571.000000</td>\n",
       "      <td>159571.000000</td>\n",
       "      <td>159571.000000</td>\n",
       "      <td>159571.000000</td>\n",
       "      <td>159571.000000</td>\n",
       "      <td>159571.000000</td>\n",
       "    </tr>\n",
       "    <tr>\n",
       "      <th>mean</th>\n",
       "      <td>0.095844</td>\n",
       "      <td>0.009996</td>\n",
       "      <td>0.052948</td>\n",
       "      <td>0.002996</td>\n",
       "      <td>0.049364</td>\n",
       "      <td>0.008805</td>\n",
       "    </tr>\n",
       "    <tr>\n",
       "      <th>std</th>\n",
       "      <td>0.294379</td>\n",
       "      <td>0.099477</td>\n",
       "      <td>0.223931</td>\n",
       "      <td>0.054650</td>\n",
       "      <td>0.216627</td>\n",
       "      <td>0.093420</td>\n",
       "    </tr>\n",
       "    <tr>\n",
       "      <th>min</th>\n",
       "      <td>0.000000</td>\n",
       "      <td>0.000000</td>\n",
       "      <td>0.000000</td>\n",
       "      <td>0.000000</td>\n",
       "      <td>0.000000</td>\n",
       "      <td>0.000000</td>\n",
       "    </tr>\n",
       "    <tr>\n",
       "      <th>25%</th>\n",
       "      <td>0.000000</td>\n",
       "      <td>0.000000</td>\n",
       "      <td>0.000000</td>\n",
       "      <td>0.000000</td>\n",
       "      <td>0.000000</td>\n",
       "      <td>0.000000</td>\n",
       "    </tr>\n",
       "    <tr>\n",
       "      <th>50%</th>\n",
       "      <td>0.000000</td>\n",
       "      <td>0.000000</td>\n",
       "      <td>0.000000</td>\n",
       "      <td>0.000000</td>\n",
       "      <td>0.000000</td>\n",
       "      <td>0.000000</td>\n",
       "    </tr>\n",
       "    <tr>\n",
       "      <th>75%</th>\n",
       "      <td>0.000000</td>\n",
       "      <td>0.000000</td>\n",
       "      <td>0.000000</td>\n",
       "      <td>0.000000</td>\n",
       "      <td>0.000000</td>\n",
       "      <td>0.000000</td>\n",
       "    </tr>\n",
       "    <tr>\n",
       "      <th>max</th>\n",
       "      <td>1.000000</td>\n",
       "      <td>1.000000</td>\n",
       "      <td>1.000000</td>\n",
       "      <td>1.000000</td>\n",
       "      <td>1.000000</td>\n",
       "      <td>1.000000</td>\n",
       "    </tr>\n",
       "  </tbody>\n",
       "</table>\n",
       "</div>"
      ],
      "text/plain": [
       "               toxic   severe_toxic        obscene         threat  \\\n",
       "count  159571.000000  159571.000000  159571.000000  159571.000000   \n",
       "mean        0.095844       0.009996       0.052948       0.002996   \n",
       "std         0.294379       0.099477       0.223931       0.054650   \n",
       "min         0.000000       0.000000       0.000000       0.000000   \n",
       "25%         0.000000       0.000000       0.000000       0.000000   \n",
       "50%         0.000000       0.000000       0.000000       0.000000   \n",
       "75%         0.000000       0.000000       0.000000       0.000000   \n",
       "max         1.000000       1.000000       1.000000       1.000000   \n",
       "\n",
       "              insult  identity_hate  \n",
       "count  159571.000000  159571.000000  \n",
       "mean        0.049364       0.008805  \n",
       "std         0.216627       0.093420  \n",
       "min         0.000000       0.000000  \n",
       "25%         0.000000       0.000000  \n",
       "50%         0.000000       0.000000  \n",
       "75%         0.000000       0.000000  \n",
       "max         1.000000       1.000000  "
      ]
     },
     "execution_count": 7,
     "metadata": {},
     "output_type": "execute_result"
    }
   ],
   "source": [
    "train_df.describe()"
   ]
  },
  {
   "cell_type": "markdown",
   "id": "ac29f70e",
   "metadata": {
    "papermill": {
     "duration": 0.013176,
     "end_time": "2023-03-31T08:23:32.492429",
     "exception": false,
     "start_time": "2023-03-31T08:23:32.479253",
     "status": "completed"
    },
    "tags": []
   },
   "source": [
    "toxic>obscene>insult>severe_toxic>identity_hate"
   ]
  },
  {
   "cell_type": "markdown",
   "id": "b523288e",
   "metadata": {
    "papermill": {
     "duration": 0.013255,
     "end_time": "2023-03-31T08:23:32.519096",
     "exception": false,
     "start_time": "2023-03-31T08:23:32.505841",
     "status": "completed"
    },
    "tags": []
   },
   "source": [
    "so,I want to mearge tpxoc+obscene->1 and insult+severe_toxic+identity_hate->0"
   ]
  },
  {
   "cell_type": "code",
   "execution_count": 8,
   "id": "6b7eab0e",
   "metadata": {
    "execution": {
     "iopub.execute_input": "2023-03-31T08:23:32.549593Z",
     "iopub.status.busy": "2023-03-31T08:23:32.548181Z",
     "iopub.status.idle": "2023-03-31T08:23:32.565109Z",
     "shell.execute_reply": "2023-03-31T08:23:32.563823Z"
    },
    "papermill": {
     "duration": 0.034994,
     "end_time": "2023-03-31T08:23:32.567991",
     "exception": false,
     "start_time": "2023-03-31T08:23:32.532997",
     "status": "completed"
    },
    "tags": []
   },
   "outputs": [
    {
     "data": {
      "text/html": [
       "<div>\n",
       "<style scoped>\n",
       "    .dataframe tbody tr th:only-of-type {\n",
       "        vertical-align: middle;\n",
       "    }\n",
       "\n",
       "    .dataframe tbody tr th {\n",
       "        vertical-align: top;\n",
       "    }\n",
       "\n",
       "    .dataframe thead th {\n",
       "        text-align: right;\n",
       "    }\n",
       "</style>\n",
       "<table border=\"1\" class=\"dataframe\">\n",
       "  <thead>\n",
       "    <tr style=\"text-align: right;\">\n",
       "      <th></th>\n",
       "      <th>id</th>\n",
       "      <th>comment_text</th>\n",
       "      <th>toxic</th>\n",
       "      <th>severe_toxic</th>\n",
       "      <th>obscene</th>\n",
       "      <th>threat</th>\n",
       "      <th>insult</th>\n",
       "      <th>identity_hate</th>\n",
       "    </tr>\n",
       "  </thead>\n",
       "  <tbody>\n",
       "    <tr>\n",
       "      <th>0</th>\n",
       "      <td>0000997932d777bf</td>\n",
       "      <td>Explanation\\nWhy the edits made under my usern...</td>\n",
       "      <td>0</td>\n",
       "      <td>0</td>\n",
       "      <td>0</td>\n",
       "      <td>0</td>\n",
       "      <td>0</td>\n",
       "      <td>0</td>\n",
       "    </tr>\n",
       "    <tr>\n",
       "      <th>1</th>\n",
       "      <td>000103f0d9cfb60f</td>\n",
       "      <td>D'aww! He matches this background colour I'm s...</td>\n",
       "      <td>0</td>\n",
       "      <td>0</td>\n",
       "      <td>0</td>\n",
       "      <td>0</td>\n",
       "      <td>0</td>\n",
       "      <td>0</td>\n",
       "    </tr>\n",
       "    <tr>\n",
       "      <th>2</th>\n",
       "      <td>000113f07ec002fd</td>\n",
       "      <td>Hey man, I'm really not trying to edit war. It...</td>\n",
       "      <td>0</td>\n",
       "      <td>0</td>\n",
       "      <td>0</td>\n",
       "      <td>0</td>\n",
       "      <td>0</td>\n",
       "      <td>0</td>\n",
       "    </tr>\n",
       "    <tr>\n",
       "      <th>3</th>\n",
       "      <td>0001b41b1c6bb37e</td>\n",
       "      <td>\"\\nMore\\nI can't make any real suggestions on ...</td>\n",
       "      <td>0</td>\n",
       "      <td>0</td>\n",
       "      <td>0</td>\n",
       "      <td>0</td>\n",
       "      <td>0</td>\n",
       "      <td>0</td>\n",
       "    </tr>\n",
       "    <tr>\n",
       "      <th>4</th>\n",
       "      <td>0001d958c54c6e35</td>\n",
       "      <td>You, sir, are my hero. Any chance you remember...</td>\n",
       "      <td>0</td>\n",
       "      <td>0</td>\n",
       "      <td>0</td>\n",
       "      <td>0</td>\n",
       "      <td>0</td>\n",
       "      <td>0</td>\n",
       "    </tr>\n",
       "    <tr>\n",
       "      <th>...</th>\n",
       "      <td>...</td>\n",
       "      <td>...</td>\n",
       "      <td>...</td>\n",
       "      <td>...</td>\n",
       "      <td>...</td>\n",
       "      <td>...</td>\n",
       "      <td>...</td>\n",
       "      <td>...</td>\n",
       "    </tr>\n",
       "    <tr>\n",
       "      <th>159566</th>\n",
       "      <td>ffe987279560d7ff</td>\n",
       "      <td>\":::::And for the second time of asking, when ...</td>\n",
       "      <td>0</td>\n",
       "      <td>0</td>\n",
       "      <td>0</td>\n",
       "      <td>0</td>\n",
       "      <td>0</td>\n",
       "      <td>0</td>\n",
       "    </tr>\n",
       "    <tr>\n",
       "      <th>159567</th>\n",
       "      <td>ffea4adeee384e90</td>\n",
       "      <td>You should be ashamed of yourself \\n\\nThat is ...</td>\n",
       "      <td>0</td>\n",
       "      <td>0</td>\n",
       "      <td>0</td>\n",
       "      <td>0</td>\n",
       "      <td>0</td>\n",
       "      <td>0</td>\n",
       "    </tr>\n",
       "    <tr>\n",
       "      <th>159568</th>\n",
       "      <td>ffee36eab5c267c9</td>\n",
       "      <td>Spitzer \\n\\nUmm, theres no actual article for ...</td>\n",
       "      <td>0</td>\n",
       "      <td>0</td>\n",
       "      <td>0</td>\n",
       "      <td>0</td>\n",
       "      <td>0</td>\n",
       "      <td>0</td>\n",
       "    </tr>\n",
       "    <tr>\n",
       "      <th>159569</th>\n",
       "      <td>fff125370e4aaaf3</td>\n",
       "      <td>And it looks like it was actually you who put ...</td>\n",
       "      <td>0</td>\n",
       "      <td>0</td>\n",
       "      <td>0</td>\n",
       "      <td>0</td>\n",
       "      <td>0</td>\n",
       "      <td>0</td>\n",
       "    </tr>\n",
       "    <tr>\n",
       "      <th>159570</th>\n",
       "      <td>fff46fc426af1f9a</td>\n",
       "      <td>\"\\nAnd ... I really don't think you understand...</td>\n",
       "      <td>0</td>\n",
       "      <td>0</td>\n",
       "      <td>0</td>\n",
       "      <td>0</td>\n",
       "      <td>0</td>\n",
       "      <td>0</td>\n",
       "    </tr>\n",
       "  </tbody>\n",
       "</table>\n",
       "<p>159571 rows × 8 columns</p>\n",
       "</div>"
      ],
      "text/plain": [
       "                      id                                       comment_text  \\\n",
       "0       0000997932d777bf  Explanation\\nWhy the edits made under my usern...   \n",
       "1       000103f0d9cfb60f  D'aww! He matches this background colour I'm s...   \n",
       "2       000113f07ec002fd  Hey man, I'm really not trying to edit war. It...   \n",
       "3       0001b41b1c6bb37e  \"\\nMore\\nI can't make any real suggestions on ...   \n",
       "4       0001d958c54c6e35  You, sir, are my hero. Any chance you remember...   \n",
       "...                  ...                                                ...   \n",
       "159566  ffe987279560d7ff  \":::::And for the second time of asking, when ...   \n",
       "159567  ffea4adeee384e90  You should be ashamed of yourself \\n\\nThat is ...   \n",
       "159568  ffee36eab5c267c9  Spitzer \\n\\nUmm, theres no actual article for ...   \n",
       "159569  fff125370e4aaaf3  And it looks like it was actually you who put ...   \n",
       "159570  fff46fc426af1f9a  \"\\nAnd ... I really don't think you understand...   \n",
       "\n",
       "        toxic  severe_toxic  obscene  threat  insult  identity_hate  \n",
       "0           0             0        0       0       0              0  \n",
       "1           0             0        0       0       0              0  \n",
       "2           0             0        0       0       0              0  \n",
       "3           0             0        0       0       0              0  \n",
       "4           0             0        0       0       0              0  \n",
       "...       ...           ...      ...     ...     ...            ...  \n",
       "159566      0             0        0       0       0              0  \n",
       "159567      0             0        0       0       0              0  \n",
       "159568      0             0        0       0       0              0  \n",
       "159569      0             0        0       0       0              0  \n",
       "159570      0             0        0       0       0              0  \n",
       "\n",
       "[159571 rows x 8 columns]"
      ]
     },
     "execution_count": 8,
     "metadata": {},
     "output_type": "execute_result"
    }
   ],
   "source": [
    "train_df"
   ]
  },
  {
   "cell_type": "code",
   "execution_count": 9,
   "id": "74ce9e51",
   "metadata": {
    "execution": {
     "iopub.execute_input": "2023-03-31T08:23:32.600175Z",
     "iopub.status.busy": "2023-03-31T08:23:32.598992Z",
     "iopub.status.idle": "2023-03-31T08:23:33.182903Z",
     "shell.execute_reply": "2023-03-31T08:23:33.181476Z"
    },
    "papermill": {
     "duration": 0.602688,
     "end_time": "2023-03-31T08:23:33.185814",
     "exception": false,
     "start_time": "2023-03-31T08:23:32.583126",
     "status": "completed"
    },
    "tags": []
   },
   "outputs": [
    {
     "data": {
      "text/plain": [
       "<AxesSubplot:>"
      ]
     },
     "execution_count": 9,
     "metadata": {},
     "output_type": "execute_result"
    },
    {
     "data": {
      "image/png": "[encoded data removed]",
      "text/plain": [
       "<Figure size 640x480 with 2 Axes>"
      ]
     },
     "metadata": {},
     "output_type": "display_data"
    }
   ],
   "source": [
    "import matplotlib.pyplot as plt\n",
    "import seaborn as sns\n",
    "import string\n",
    "sns.heatmap(train_df.corr(),annot=True)"
   ]
  },
  {
   "cell_type": "markdown",
   "id": "14d291ef",
   "metadata": {
    "execution": {
     "iopub.execute_input": "2023-03-29T06:46:40.642795Z",
     "iopub.status.busy": "2023-03-29T06:46:40.642333Z",
     "iopub.status.idle": "2023-03-29T06:46:40.650547Z",
     "shell.execute_reply": "2023-03-29T06:46:40.648814Z",
     "shell.execute_reply.started": "2023-03-29T06:46:40.642755Z"
    },
    "papermill": {
     "duration": 0.014463,
     "end_time": "2023-03-31T08:23:33.215033",
     "exception": false,
     "start_time": "2023-03-31T08:23:33.200570",
     "status": "completed"
    },
    "tags": []
   },
   "source": [
    "feature like insult vs toxic , obscene vs toxic, obscene vs insult is highly correlated"
   ]
  },
  {
   "cell_type": "code",
   "execution_count": 10,
   "id": "2a5762ad",
   "metadata": {
    "execution": {
     "iopub.execute_input": "2023-03-31T08:23:33.246978Z",
     "iopub.status.busy": "2023-03-31T08:23:33.246528Z",
     "iopub.status.idle": "2023-03-31T08:23:33.267307Z",
     "shell.execute_reply": "2023-03-31T08:23:33.265763Z"
    },
    "papermill": {
     "duration": 0.039936,
     "end_time": "2023-03-31T08:23:33.270297",
     "exception": false,
     "start_time": "2023-03-31T08:23:33.230361",
     "status": "completed"
    },
    "tags": []
   },
   "outputs": [
    {
     "name": "stdout",
     "output_type": "stream",
     "text": [
      "toxic\n",
      "0    144277\n",
      "1     15294\n",
      "Name: toxic, dtype: int64\n",
      "severe_toxic\n",
      "0    157976\n",
      "1      1595\n",
      "Name: severe_toxic, dtype: int64\n",
      "obscene\n",
      "0    151122\n",
      "1      8449\n",
      "Name: obscene, dtype: int64\n",
      "threat\n",
      "0    159093\n",
      "1       478\n",
      "Name: threat, dtype: int64\n",
      "insult\n",
      "0    151694\n",
      "1      7877\n",
      "Name: insult, dtype: int64\n",
      "identity_hate\n",
      "0    158166\n",
      "1      1405\n",
      "Name: identity_hate, dtype: int64\n"
     ]
    }
   ],
   "source": [
    "\n",
    "toxic= ['toxic','severe_toxic','obscene','threat','insult','identity_hate']\n",
    "for i in toxic:\n",
    "    print(i)\n",
    "    print(train_df[i].value_counts())"
   ]
  },
  {
   "cell_type": "markdown",
   "id": "47bc98a7",
   "metadata": {
    "execution": {
     "iopub.execute_input": "2023-03-29T06:59:32.804068Z",
     "iopub.status.busy": "2023-03-29T06:59:32.803389Z",
     "iopub.status.idle": "2023-03-29T06:59:32.816222Z",
     "shell.execute_reply": "2023-03-29T06:59:32.814861Z",
     "shell.execute_reply.started": "2023-03-29T06:59:32.804004Z"
    },
    "papermill": {
     "duration": 0.014624,
     "end_time": "2023-03-31T08:23:33.300010",
     "exception": false,
     "start_time": "2023-03-31T08:23:33.285386",
     "status": "completed"
    },
    "tags": []
   },
   "source": [
    "# Preprocessing of text"
   ]
  },
  {
   "cell_type": "code",
   "execution_count": 11,
   "id": "7e294d19",
   "metadata": {
    "execution": {
     "iopub.execute_input": "2023-03-31T08:23:33.332454Z",
     "iopub.status.busy": "2023-03-31T08:23:33.331402Z",
     "iopub.status.idle": "2023-03-31T08:23:33.337182Z",
     "shell.execute_reply": "2023-03-31T08:23:33.335985Z"
    },
    "papermill": {
     "duration": 0.024645,
     "end_time": "2023-03-31T08:23:33.339676",
     "exception": false,
     "start_time": "2023-03-31T08:23:33.315031",
     "status": "completed"
    },
    "tags": []
   },
   "outputs": [],
   "source": [
    "from sklearn.feature_extraction.text import CountVectorizer,TfidfVectorizer\n",
    "import re\n",
    "import nltk"
   ]
  },
  {
   "cell_type": "code",
   "execution_count": 12,
   "id": "c0d0449a",
   "metadata": {
    "execution": {
     "iopub.execute_input": "2023-03-31T08:23:33.371485Z",
     "iopub.status.busy": "2023-03-31T08:23:33.370727Z",
     "iopub.status.idle": "2023-03-31T08:23:33.383737Z",
     "shell.execute_reply": "2023-03-31T08:23:33.382421Z"
    },
    "papermill": {
     "duration": 0.032234,
     "end_time": "2023-03-31T08:23:33.386756",
     "exception": false,
     "start_time": "2023-03-31T08:23:33.354522",
     "status": "completed"
    },
    "tags": []
   },
   "outputs": [],
   "source": [
    "\n",
    "stopword = nltk.corpus.stopwords.words('english')\n",
    "ps = nltk.PorterStemmer()\n",
    "wnl = nltk.WordNetLemmatizer()"
   ]
  },
  {
   "cell_type": "code",
   "execution_count": 13,
   "id": "ab1b67e8",
   "metadata": {
    "execution": {
     "iopub.execute_input": "2023-03-31T08:23:33.419359Z",
     "iopub.status.busy": "2023-03-31T08:23:33.418921Z",
     "iopub.status.idle": "2023-03-31T08:23:33.426073Z",
     "shell.execute_reply": "2023-03-31T08:23:33.424831Z"
    },
    "papermill": {
     "duration": 0.027139,
     "end_time": "2023-03-31T08:23:33.429066",
     "exception": false,
     "start_time": "2023-03-31T08:23:33.401927",
     "status": "completed"
    },
    "tags": []
   },
   "outputs": [
    {
     "data": {
      "text/plain": [
       "159571"
      ]
     },
     "execution_count": 13,
     "metadata": {},
     "output_type": "execute_result"
    }
   ],
   "source": [
    "len(train_df)"
   ]
  },
  {
   "cell_type": "code",
   "execution_count": 14,
   "id": "20fbe328",
   "metadata": {
    "execution": {
     "iopub.execute_input": "2023-03-31T08:23:33.462630Z",
     "iopub.status.busy": "2023-03-31T08:23:33.461834Z",
     "iopub.status.idle": "2023-03-31T08:23:33.469222Z",
     "shell.execute_reply": "2023-03-31T08:23:33.468065Z"
    },
    "papermill": {
     "duration": 0.026878,
     "end_time": "2023-03-31T08:23:33.471717",
     "exception": false,
     "start_time": "2023-03-31T08:23:33.444839",
     "status": "completed"
    },
    "tags": []
   },
   "outputs": [],
   "source": [
    "import sys\n",
    "sys.setrecursionlimit(len(train_df))\n",
    "def punch(text):\n",
    "    text = text.replace(\"\\n\", \" \")\n",
    "    text = \"\".join([word for word in text if word not in string.punctuation])\n",
    "    text = text.lower()\n",
    "    return text"
   ]
  },
  {
   "cell_type": "code",
   "execution_count": 15,
   "id": "e629d452",
   "metadata": {
    "execution": {
     "iopub.execute_input": "2023-03-31T08:23:33.503549Z",
     "iopub.status.busy": "2023-03-31T08:23:33.503044Z",
     "iopub.status.idle": "2023-03-31T08:23:42.174029Z",
     "shell.execute_reply": "2023-03-31T08:23:42.172739Z"
    },
    "papermill": {
     "duration": 8.69044,
     "end_time": "2023-03-31T08:23:42.177118",
     "exception": false,
     "start_time": "2023-03-31T08:23:33.486678",
     "status": "completed"
    },
    "tags": []
   },
   "outputs": [],
   "source": [
    "train_df['clean_text'] = train_df['comment_text'].apply(lambda x:punch(x))"
   ]
  },
  {
   "cell_type": "code",
   "execution_count": 16,
   "id": "4f25f459",
   "metadata": {
    "execution": {
     "iopub.execute_input": "2023-03-31T08:23:42.209921Z",
     "iopub.status.busy": "2023-03-31T08:23:42.208669Z",
     "iopub.status.idle": "2023-03-31T08:23:42.222190Z",
     "shell.execute_reply": "2023-03-31T08:23:42.221289Z"
    },
    "papermill": {
     "duration": 0.032384,
     "end_time": "2023-03-31T08:23:42.224597",
     "exception": false,
     "start_time": "2023-03-31T08:23:42.192213",
     "status": "completed"
    },
    "tags": []
   },
   "outputs": [
    {
     "data": {
      "text/html": [
       "<div>\n",
       "<style scoped>\n",
       "    .dataframe tbody tr th:only-of-type {\n",
       "        vertical-align: middle;\n",
       "    }\n",
       "\n",
       "    .dataframe tbody tr th {\n",
       "        vertical-align: top;\n",
       "    }\n",
       "\n",
       "    .dataframe thead th {\n",
       "        text-align: right;\n",
       "    }\n",
       "</style>\n",
       "<table border=\"1\" class=\"dataframe\">\n",
       "  <thead>\n",
       "    <tr style=\"text-align: right;\">\n",
       "      <th></th>\n",
       "      <th>id</th>\n",
       "      <th>comment_text</th>\n",
       "      <th>toxic</th>\n",
       "      <th>severe_toxic</th>\n",
       "      <th>obscene</th>\n",
       "      <th>threat</th>\n",
       "      <th>insult</th>\n",
       "      <th>identity_hate</th>\n",
       "      <th>clean_text</th>\n",
       "    </tr>\n",
       "  </thead>\n",
       "  <tbody>\n",
       "    <tr>\n",
       "      <th>0</th>\n",
       "      <td>0000997932d777bf</td>\n",
       "      <td>Explanation\\nWhy the edits made under my usern...</td>\n",
       "      <td>0</td>\n",
       "      <td>0</td>\n",
       "      <td>0</td>\n",
       "      <td>0</td>\n",
       "      <td>0</td>\n",
       "      <td>0</td>\n",
       "      <td>explanation why the edits made under my userna...</td>\n",
       "    </tr>\n",
       "    <tr>\n",
       "      <th>1</th>\n",
       "      <td>000103f0d9cfb60f</td>\n",
       "      <td>D'aww! He matches this background colour I'm s...</td>\n",
       "      <td>0</td>\n",
       "      <td>0</td>\n",
       "      <td>0</td>\n",
       "      <td>0</td>\n",
       "      <td>0</td>\n",
       "      <td>0</td>\n",
       "      <td>daww he matches this background colour im seem...</td>\n",
       "    </tr>\n",
       "    <tr>\n",
       "      <th>2</th>\n",
       "      <td>000113f07ec002fd</td>\n",
       "      <td>Hey man, I'm really not trying to edit war. It...</td>\n",
       "      <td>0</td>\n",
       "      <td>0</td>\n",
       "      <td>0</td>\n",
       "      <td>0</td>\n",
       "      <td>0</td>\n",
       "      <td>0</td>\n",
       "      <td>hey man im really not trying to edit war its j...</td>\n",
       "    </tr>\n",
       "    <tr>\n",
       "      <th>3</th>\n",
       "      <td>0001b41b1c6bb37e</td>\n",
       "      <td>\"\\nMore\\nI can't make any real suggestions on ...</td>\n",
       "      <td>0</td>\n",
       "      <td>0</td>\n",
       "      <td>0</td>\n",
       "      <td>0</td>\n",
       "      <td>0</td>\n",
       "      <td>0</td>\n",
       "      <td>more i cant make any real suggestions on impr...</td>\n",
       "    </tr>\n",
       "    <tr>\n",
       "      <th>4</th>\n",
       "      <td>0001d958c54c6e35</td>\n",
       "      <td>You, sir, are my hero. Any chance you remember...</td>\n",
       "      <td>0</td>\n",
       "      <td>0</td>\n",
       "      <td>0</td>\n",
       "      <td>0</td>\n",
       "      <td>0</td>\n",
       "      <td>0</td>\n",
       "      <td>you sir are my hero any chance you remember wh...</td>\n",
       "    </tr>\n",
       "  </tbody>\n",
       "</table>\n",
       "</div>"
      ],
      "text/plain": [
       "                 id                                       comment_text  toxic  \\\n",
       "0  0000997932d777bf  Explanation\\nWhy the edits made under my usern...      0   \n",
       "1  000103f0d9cfb60f  D'aww! He matches this background colour I'm s...      0   \n",
       "2  000113f07ec002fd  Hey man, I'm really not trying to edit war. It...      0   \n",
       "3  0001b41b1c6bb37e  \"\\nMore\\nI can't make any real suggestions on ...      0   \n",
       "4  0001d958c54c6e35  You, sir, are my hero. Any chance you remember...      0   \n",
       "\n",
       "   severe_toxic  obscene  threat  insult  identity_hate  \\\n",
       "0             0        0       0       0              0   \n",
       "1             0        0       0       0              0   \n",
       "2             0        0       0       0              0   \n",
       "3             0        0       0       0              0   \n",
       "4             0        0       0       0              0   \n",
       "\n",
       "                                          clean_text  \n",
       "0  explanation why the edits made under my userna...  \n",
       "1  daww he matches this background colour im seem...  \n",
       "2  hey man im really not trying to edit war its j...  \n",
       "3   more i cant make any real suggestions on impr...  \n",
       "4  you sir are my hero any chance you remember wh...  "
      ]
     },
     "execution_count": 16,
     "metadata": {},
     "output_type": "execute_result"
    }
   ],
   "source": [
    "train_df.head()"
   ]
  },
  {
   "cell_type": "code",
   "execution_count": 17,
   "id": "fd856d95",
   "metadata": {
    "execution": {
     "iopub.execute_input": "2023-03-31T08:23:42.257741Z",
     "iopub.status.busy": "2023-03-31T08:23:42.257259Z",
     "iopub.status.idle": "2023-03-31T08:23:42.265066Z",
     "shell.execute_reply": "2023-03-31T08:23:42.263318Z"
    },
    "papermill": {
     "duration": 0.027575,
     "end_time": "2023-03-31T08:23:42.267554",
     "exception": false,
     "start_time": "2023-03-31T08:23:42.239979",
     "status": "completed"
    },
    "tags": []
   },
   "outputs": [
    {
     "name": "stdout",
     "output_type": "stream",
     "text": [
      "/usr/share/nltk_data/corpora\n"
     ]
    }
   ],
   "source": [
    "cd '/usr/share/nltk_data/corpora/'"
   ]
  },
  {
   "cell_type": "code",
   "execution_count": 18,
   "id": "a5182ad3",
   "metadata": {
    "execution": {
     "iopub.execute_input": "2023-03-31T08:23:42.300255Z",
     "iopub.status.busy": "2023-03-31T08:23:42.299826Z",
     "iopub.status.idle": "2023-03-31T08:23:43.782972Z",
     "shell.execute_reply": "2023-03-31T08:23:43.781302Z"
    },
    "papermill": {
     "duration": 1.503736,
     "end_time": "2023-03-31T08:23:43.786465",
     "exception": false,
     "start_time": "2023-03-31T08:23:42.282729",
     "status": "completed"
    },
    "tags": []
   },
   "outputs": [
    {
     "name": "stdout",
     "output_type": "stream",
     "text": [
      "Archive:  /usr/share/nltk_data/corpora/wordnet.zip\r\n",
      "   creating: wordnet/\r\n",
      "  inflating: wordnet/lexnames        \r\n",
      "  inflating: wordnet/data.verb       \r\n",
      "  inflating: wordnet/index.adv       \r\n",
      "  inflating: wordnet/adv.exc         \r\n",
      "  inflating: wordnet/index.verb      \r\n",
      "  inflating: wordnet/cntlist.rev     \r\n",
      "  inflating: wordnet/data.adj        \r\n",
      "  inflating: wordnet/index.adj       \r\n",
      "  inflating: wordnet/LICENSE         \r\n",
      "  inflating: wordnet/citation.bib    \r\n",
      "  inflating: wordnet/noun.exc        \r\n",
      "  inflating: wordnet/verb.exc        \r\n",
      "  inflating: wordnet/README          \r\n",
      "  inflating: wordnet/index.sense     \r\n",
      "  inflating: wordnet/data.noun       \r\n",
      "  inflating: wordnet/data.adv        \r\n",
      "  inflating: wordnet/index.noun      \r\n",
      "  inflating: wordnet/adj.exc         \r\n"
     ]
    }
   ],
   "source": [
    "!unzip /usr/share/nltk_data/corpora/wordnet.zip"
   ]
  },
  {
   "cell_type": "code",
   "execution_count": 19,
   "id": "65e74984",
   "metadata": {
    "execution": {
     "iopub.execute_input": "2023-03-31T08:23:43.820530Z",
     "iopub.status.busy": "2023-03-31T08:23:43.819706Z",
     "iopub.status.idle": "2023-03-31T08:23:43.827415Z",
     "shell.execute_reply": "2023-03-31T08:23:43.825681Z"
    },
    "papermill": {
     "duration": 0.027561,
     "end_time": "2023-03-31T08:23:43.829753",
     "exception": false,
     "start_time": "2023-03-31T08:23:43.802192",
     "status": "completed"
    },
    "tags": []
   },
   "outputs": [
    {
     "name": "stdout",
     "output_type": "stream",
     "text": [
      "/kaggle/working\n"
     ]
    }
   ],
   "source": [
    "cd '/kaggle/working/'"
   ]
  },
  {
   "cell_type": "code",
   "execution_count": 20,
   "id": "b6827117",
   "metadata": {
    "execution": {
     "iopub.execute_input": "2023-03-31T08:23:43.863434Z",
     "iopub.status.busy": "2023-03-31T08:23:43.862227Z",
     "iopub.status.idle": "2023-03-31T08:24:44.350657Z",
     "shell.execute_reply": "2023-03-31T08:24:44.349602Z"
    },
    "papermill": {
     "duration": 60.508088,
     "end_time": "2023-03-31T08:24:44.353412",
     "exception": false,
     "start_time": "2023-03-31T08:23:43.845324",
     "status": "completed"
    },
    "tags": []
   },
   "outputs": [],
   "source": [
    "import sys\n",
    "sys.setrecursionlimit(len(train_df))\n",
    "corpus = []\n",
    "for i in range(0,len(train_df)):\n",
    "    text = re.sub('[^a-zA_Z]',' ',train_df['clean_text'][i])\n",
    "    text = text.lower()\n",
    "    text = text.split()\n",
    "    \n",
    "    text = [wnl.lemmatize(word,pos='v') for word in text if word not in stopword]\n",
    "    text = \" \".join(text)\n",
    "    corpus.append(text)"
   ]
  },
  {
   "cell_type": "code",
   "execution_count": 21,
   "id": "85022202",
   "metadata": {
    "execution": {
     "iopub.execute_input": "2023-03-31T08:24:44.387982Z",
     "iopub.status.busy": "2023-03-31T08:24:44.387293Z",
     "iopub.status.idle": "2023-03-31T08:24:44.394651Z",
     "shell.execute_reply": "2023-03-31T08:24:44.393498Z"
    },
    "papermill": {
     "duration": 0.027788,
     "end_time": "2023-03-31T08:24:44.397229",
     "exception": false,
     "start_time": "2023-03-31T08:24:44.369441",
     "status": "completed"
    },
    "tags": []
   },
   "outputs": [
    {
     "data": {
      "text/plain": [
       "['explanation edit make username hardcore metallica fan revert werent vandalisms closure gas vote new york dolls fac please dont remove template talk page since im retire',\n",
       " 'daww match background colour im seemingly stick thank talk january utc']"
      ]
     },
     "execution_count": 21,
     "metadata": {},
     "output_type": "execute_result"
    }
   ],
   "source": [
    "corpus[:2]"
   ]
  },
  {
   "cell_type": "code",
   "execution_count": 22,
   "id": "ce2ebdb4",
   "metadata": {
    "execution": {
     "iopub.execute_input": "2023-03-31T08:24:44.431397Z",
     "iopub.status.busy": "2023-03-31T08:24:44.430892Z",
     "iopub.status.idle": "2023-03-31T08:24:53.403938Z",
     "shell.execute_reply": "2023-03-31T08:24:53.402732Z"
    },
    "papermill": {
     "duration": 8.994228,
     "end_time": "2023-03-31T08:24:53.407362",
     "exception": false,
     "start_time": "2023-03-31T08:24:44.413134",
     "status": "completed"
    },
    "tags": []
   },
   "outputs": [],
   "source": [
    "cv1 =CountVectorizer(max_features=4000)\n",
    "bow = cv1.fit_transform(corpus).toarray()"
   ]
  },
  {
   "cell_type": "code",
   "execution_count": 23,
   "id": "e868caf9",
   "metadata": {
    "execution": {
     "iopub.execute_input": "2023-03-31T08:24:53.442728Z",
     "iopub.status.busy": "2023-03-31T08:24:53.441536Z",
     "iopub.status.idle": "2023-03-31T08:24:53.447786Z",
     "shell.execute_reply": "2023-03-31T08:24:53.446305Z"
    },
    "papermill": {
     "duration": 0.026345,
     "end_time": "2023-03-31T08:24:53.450265",
     "exception": false,
     "start_time": "2023-03-31T08:24:53.423920",
     "status": "completed"
    },
    "tags": []
   },
   "outputs": [
    {
     "name": "stdout",
     "output_type": "stream",
     "text": [
      "(159571, 4000)\n"
     ]
    }
   ],
   "source": [
    "print(bow.shape)"
   ]
  },
  {
   "cell_type": "code",
   "execution_count": 24,
   "id": "0903c41f",
   "metadata": {
    "execution": {
     "iopub.execute_input": "2023-03-31T08:24:53.483819Z",
     "iopub.status.busy": "2023-03-31T08:24:53.483396Z",
     "iopub.status.idle": "2023-03-31T08:24:53.491637Z",
     "shell.execute_reply": "2023-03-31T08:24:53.490372Z"
    },
    "papermill": {
     "duration": 0.028047,
     "end_time": "2023-03-31T08:24:53.494149",
     "exception": false,
     "start_time": "2023-03-31T08:24:53.466102",
     "status": "completed"
    },
    "tags": []
   },
   "outputs": [
    {
     "data": {
      "text/plain": [
       "array([[0, 0, 0, ..., 0, 0, 0],\n",
       "       [0, 0, 0, ..., 0, 0, 0],\n",
       "       [0, 0, 0, ..., 0, 0, 0],\n",
       "       ...,\n",
       "       [0, 0, 0, ..., 0, 0, 0],\n",
       "       [0, 0, 0, ..., 0, 0, 0],\n",
       "       [0, 0, 0, ..., 0, 0, 0]])"
      ]
     },
     "execution_count": 24,
     "metadata": {},
     "output_type": "execute_result"
    }
   ],
   "source": [
    "bow"
   ]
  },
  {
   "cell_type": "code",
   "execution_count": 25,
   "id": "ed5fe25a",
   "metadata": {
    "execution": {
     "iopub.execute_input": "2023-03-31T08:24:53.529443Z",
     "iopub.status.busy": "2023-03-31T08:24:53.528597Z",
     "iopub.status.idle": "2023-03-31T08:24:53.536988Z",
     "shell.execute_reply": "2023-03-31T08:24:53.535681Z"
    },
    "papermill": {
     "duration": 0.028907,
     "end_time": "2023-03-31T08:24:53.539459",
     "exception": false,
     "start_time": "2023-03-31T08:24:53.510552",
     "status": "completed"
    },
    "tags": []
   },
   "outputs": [
    {
     "data": {
      "text/plain": [
       "array([0, 0, 0, ..., 0, 0, 0])"
      ]
     },
     "execution_count": 25,
     "metadata": {},
     "output_type": "execute_result"
    }
   ],
   "source": [
    "y  = np.array(train_df['toxic'])\n",
    "y\n"
   ]
  },
  {
   "cell_type": "code",
   "execution_count": 26,
   "id": "c002e7c9",
   "metadata": {
    "execution": {
     "iopub.execute_input": "2023-03-31T08:24:53.573969Z",
     "iopub.status.busy": "2023-03-31T08:24:53.573054Z",
     "iopub.status.idle": "2023-03-31T08:24:53.579994Z",
     "shell.execute_reply": "2023-03-31T08:24:53.578368Z"
    },
    "papermill": {
     "duration": 0.027575,
     "end_time": "2023-03-31T08:24:53.583163",
     "exception": false,
     "start_time": "2023-03-31T08:24:53.555588",
     "status": "completed"
    },
    "tags": []
   },
   "outputs": [
    {
     "name": "stdout",
     "output_type": "stream",
     "text": [
      "(159571, 4000)\n",
      "(159571,)\n"
     ]
    }
   ],
   "source": [
    "print(bow.shape)\n",
    "print(y.shape)"
   ]
  },
  {
   "cell_type": "code",
   "execution_count": 27,
   "id": "3aa4970f",
   "metadata": {
    "execution": {
     "iopub.execute_input": "2023-03-31T08:24:53.617332Z",
     "iopub.status.busy": "2023-03-31T08:24:53.616939Z",
     "iopub.status.idle": "2023-03-31T08:24:56.224030Z",
     "shell.execute_reply": "2023-03-31T08:24:56.222366Z"
    },
    "papermill": {
     "duration": 2.627758,
     "end_time": "2023-03-31T08:24:56.227152",
     "exception": false,
     "start_time": "2023-03-31T08:24:53.599394",
     "status": "completed"
    },
    "tags": []
   },
   "outputs": [],
   "source": [
    "from sklearn.model_selection import train_test_split\n",
    "x_train,x_test,y_train,y_test = train_test_split(bow,y,test_size=0.30,random_state=0000)"
   ]
  },
  {
   "cell_type": "code",
   "execution_count": 28,
   "id": "e585a723",
   "metadata": {
    "execution": {
     "iopub.execute_input": "2023-03-31T08:24:56.263541Z",
     "iopub.status.busy": "2023-03-31T08:24:56.263116Z",
     "iopub.status.idle": "2023-03-31T08:24:56.271222Z",
     "shell.execute_reply": "2023-03-31T08:24:56.269928Z"
    },
    "papermill": {
     "duration": 0.030468,
     "end_time": "2023-03-31T08:24:56.273863",
     "exception": false,
     "start_time": "2023-03-31T08:24:56.243395",
     "status": "completed"
    },
    "tags": []
   },
   "outputs": [
    {
     "data": {
      "text/plain": [
       "((111699, 4000), (111699,))"
      ]
     },
     "execution_count": 28,
     "metadata": {},
     "output_type": "execute_result"
    }
   ],
   "source": [
    "x_train.shape,y_train.shape"
   ]
  },
  {
   "cell_type": "code",
   "execution_count": 29,
   "id": "b6c119c0",
   "metadata": {
    "execution": {
     "iopub.execute_input": "2023-03-31T08:24:56.310143Z",
     "iopub.status.busy": "2023-03-31T08:24:56.309714Z",
     "iopub.status.idle": "2023-03-31T08:24:56.316418Z",
     "shell.execute_reply": "2023-03-31T08:24:56.315159Z"
    },
    "papermill": {
     "duration": 0.028415,
     "end_time": "2023-03-31T08:24:56.319048",
     "exception": false,
     "start_time": "2023-03-31T08:24:56.290633",
     "status": "completed"
    },
    "tags": []
   },
   "outputs": [
    {
     "data": {
      "text/plain": [
       "((47872, 4000), (47872,))"
      ]
     },
     "execution_count": 29,
     "metadata": {},
     "output_type": "execute_result"
    }
   ],
   "source": [
    "x_test.shape,y_test.shape"
   ]
  },
  {
   "cell_type": "code",
   "execution_count": 30,
   "id": "83c9cd2a",
   "metadata": {
    "execution": {
     "iopub.execute_input": "2023-03-31T08:24:56.355462Z",
     "iopub.status.busy": "2023-03-31T08:24:56.354266Z",
     "iopub.status.idle": "2023-03-31T08:25:07.535564Z",
     "shell.execute_reply": "2023-03-31T08:25:07.533841Z"
    },
    "papermill": {
     "duration": 11.205762,
     "end_time": "2023-03-31T08:25:07.541627",
     "exception": false,
     "start_time": "2023-03-31T08:24:56.335865",
     "status": "completed"
    },
    "tags": []
   },
   "outputs": [
    {
     "name": "stdout",
     "output_type": "stream",
     "text": [
      "0.9489889705882353\n",
      "[[42319   962]\n",
      " [ 1480  3111]]\n"
     ]
    }
   ],
   "source": [
    "sentient_detection_model = MultinomialNB()\n",
    "model = sentient_detection_model.fit(x_train,y_train)\n",
    "y_pred = model.predict(x_test)\n",
    "score = metrics.accuracy_score(y_test,y_pred)\n",
    "print(score)\n",
    "print(metrics.confusion_matrix(y_test,y_pred))"
   ]
  },
  {
   "cell_type": "code",
   "execution_count": 31,
   "id": "e893dc80",
   "metadata": {
    "execution": {
     "iopub.execute_input": "2023-03-31T08:25:07.624892Z",
     "iopub.status.busy": "2023-03-31T08:25:07.624489Z",
     "iopub.status.idle": "2023-03-31T08:25:07.629685Z",
     "shell.execute_reply": "2023-03-31T08:25:07.628371Z"
    },
    "papermill": {
     "duration": 0.046335,
     "end_time": "2023-03-31T08:25:07.632329",
     "exception": false,
     "start_time": "2023-03-31T08:25:07.585994",
     "status": "completed"
    },
    "tags": []
   },
   "outputs": [],
   "source": [
    "a=x_test[1:2]\n",
    "b=x_test[:1]"
   ]
  },
  {
   "cell_type": "code",
   "execution_count": 32,
   "id": "1a7d7ed3",
   "metadata": {
    "execution": {
     "iopub.execute_input": "2023-03-31T08:25:07.668329Z",
     "iopub.status.busy": "2023-03-31T08:25:07.667506Z",
     "iopub.status.idle": "2023-03-31T08:25:07.675022Z",
     "shell.execute_reply": "2023-03-31T08:25:07.674076Z"
    },
    "papermill": {
     "duration": 0.028129,
     "end_time": "2023-03-31T08:25:07.677419",
     "exception": false,
     "start_time": "2023-03-31T08:25:07.649290",
     "status": "completed"
    },
    "tags": []
   },
   "outputs": [
    {
     "data": {
      "text/plain": [
       "array([0, 1])"
      ]
     },
     "execution_count": 32,
     "metadata": {},
     "output_type": "execute_result"
    }
   ],
   "source": [
    "y_test[:2]"
   ]
  },
  {
   "cell_type": "code",
   "execution_count": 33,
   "id": "a30e2183",
   "metadata": {
    "execution": {
     "iopub.execute_input": "2023-03-31T08:25:07.712855Z",
     "iopub.status.busy": "2023-03-31T08:25:07.712036Z",
     "iopub.status.idle": "2023-03-31T08:25:07.720207Z",
     "shell.execute_reply": "2023-03-31T08:25:07.718882Z"
    },
    "papermill": {
     "duration": 0.028997,
     "end_time": "2023-03-31T08:25:07.722842",
     "exception": false,
     "start_time": "2023-03-31T08:25:07.693845",
     "status": "completed"
    },
    "tags": []
   },
   "outputs": [
    {
     "data": {
      "text/plain": [
       "(array([[0, 0, 0, ..., 0, 0, 0]]), array([[0, 0, 0, ..., 0, 0, 0]]))"
      ]
     },
     "execution_count": 33,
     "metadata": {},
     "output_type": "execute_result"
    }
   ],
   "source": [
    "a,b"
   ]
  },
  {
   "cell_type": "code",
   "execution_count": 34,
   "id": "0f4f93f6",
   "metadata": {
    "execution": {
     "iopub.execute_input": "2023-03-31T08:25:07.758042Z",
     "iopub.status.busy": "2023-03-31T08:25:07.757651Z",
     "iopub.status.idle": "2023-03-31T08:25:07.763714Z",
     "shell.execute_reply": "2023-03-31T08:25:07.762511Z"
    },
    "papermill": {
     "duration": 0.027782,
     "end_time": "2023-03-31T08:25:07.767215",
     "exception": false,
     "start_time": "2023-03-31T08:25:07.739433",
     "status": "completed"
    },
    "tags": []
   },
   "outputs": [
    {
     "name": "stdout",
     "output_type": "stream",
     "text": [
      "[1]\n",
      "[0]\n"
     ]
    }
   ],
   "source": [
    "print(model.predict(a))\n",
    "print(model.predict(b))"
   ]
  },
  {
   "cell_type": "markdown",
   "id": "f81d4bc2",
   "metadata": {
    "papermill": {
     "duration": 0.016693,
     "end_time": "2023-03-31T08:25:07.800571",
     "exception": false,
     "start_time": "2023-03-31T08:25:07.783878",
     "status": "completed"
    },
    "tags": []
   },
   "source": [
    "-----------------------------------------------------------------------------------------"
   ]
  },
  {
   "cell_type": "markdown",
   "id": "2d02e509",
   "metadata": {
    "papermill": {
     "duration": 0.016685,
     "end_time": "2023-03-31T08:25:07.833933",
     "exception": false,
     "start_time": "2023-03-31T08:25:07.817248",
     "status": "completed"
    },
    "tags": []
   },
   "source": [
    "# using Word embedding and Lstm model"
   ]
  },
  {
   "cell_type": "code",
   "execution_count": 35,
   "id": "3b859a0a",
   "metadata": {
    "execution": {
     "iopub.execute_input": "2023-03-31T08:25:07.869737Z",
     "iopub.status.busy": "2023-03-31T08:25:07.868809Z",
     "iopub.status.idle": "2023-03-31T08:25:07.876031Z",
     "shell.execute_reply": "2023-03-31T08:25:07.875120Z"
    },
    "papermill": {
     "duration": 0.02754,
     "end_time": "2023-03-31T08:25:07.878237",
     "exception": false,
     "start_time": "2023-03-31T08:25:07.850697",
     "status": "completed"
    },
    "tags": []
   },
   "outputs": [
    {
     "data": {
      "text/plain": [
       "['explanation edit make username hardcore metallica fan revert werent vandalisms closure gas vote new york dolls fac please dont remove template talk page since im retire',\n",
       " 'daww match background colour im seemingly stick thank talk january utc']"
      ]
     },
     "execution_count": 35,
     "metadata": {},
     "output_type": "execute_result"
    }
   ],
   "source": [
    "corpus[:2]"
   ]
  },
  {
   "cell_type": "markdown",
   "id": "90f34f10",
   "metadata": {
    "papermill": {
     "duration": 0.01636,
     "end_time": "2023-03-31T08:25:07.911322",
     "exception": false,
     "start_time": "2023-03-31T08:25:07.894962",
     "status": "completed"
    },
    "tags": []
   },
   "source": [
    "### Loading important libraries"
   ]
  },
  {
   "cell_type": "code",
   "execution_count": 36,
   "id": "f2fb51b8",
   "metadata": {
    "execution": {
     "iopub.execute_input": "2023-03-31T08:25:07.948086Z",
     "iopub.status.busy": "2023-03-31T08:25:07.947647Z",
     "iopub.status.idle": "2023-03-31T08:25:17.568220Z",
     "shell.execute_reply": "2023-03-31T08:25:17.566754Z"
    },
    "papermill": {
     "duration": 9.642749,
     "end_time": "2023-03-31T08:25:17.571235",
     "exception": false,
     "start_time": "2023-03-31T08:25:07.928486",
     "status": "completed"
    },
    "tags": []
   },
   "outputs": [],
   "source": [
    "from tensorflow.keras.preprocessing.text import one_hot\n",
    "from tensorflow.keras.preprocessing.sequence import pad_sequences\n",
    "from tensorflow.keras.layers import Embedding,LSTM,Dense\n",
    "from tensorflow.keras.models import Sequential\n",
    "from sklearn.model_selection import train_test_split\n",
    "from sklearn import metrics"
   ]
  },
  {
   "cell_type": "code",
   "execution_count": 37,
   "id": "ebf3ebfc",
   "metadata": {
    "execution": {
     "iopub.execute_input": "2023-03-31T08:25:17.608669Z",
     "iopub.status.busy": "2023-03-31T08:25:17.607799Z",
     "iopub.status.idle": "2023-03-31T08:25:22.024775Z",
     "shell.execute_reply": "2023-03-31T08:25:22.023391Z"
    },
    "papermill": {
     "duration": 4.438822,
     "end_time": "2023-03-31T08:25:22.027608",
     "exception": false,
     "start_time": "2023-03-31T08:25:17.588786",
     "status": "completed"
    },
    "tags": []
   },
   "outputs": [
    {
     "data": {
      "text/plain": [
       "[[8723,\n",
       "  5652,\n",
       "  9670,\n",
       "  9121,\n",
       "  6516,\n",
       "  4312,\n",
       "  4815,\n",
       "  9827,\n",
       "  4660,\n",
       "  9734,\n",
       "  26,\n",
       "  6706,\n",
       "  7926,\n",
       "  4741,\n",
       "  590,\n",
       "  6271,\n",
       "  8998,\n",
       "  1638,\n",
       "  7061,\n",
       "  9479,\n",
       "  9666,\n",
       "  9154,\n",
       "  2273,\n",
       "  4467,\n",
       "  3165,\n",
       "  8886],\n",
       " [3213, 565, 2799, 6803, 3165, 3058, 3853, 705, 9154, 2983, 5085],\n",
       " [4545,\n",
       "  9465,\n",
       "  3165,\n",
       "  7356,\n",
       "  4507,\n",
       "  5652,\n",
       "  8874,\n",
       "  7243,\n",
       "  2386,\n",
       "  9479,\n",
       "  6332,\n",
       "  2861,\n",
       "  9154,\n",
       "  5652,\n",
       "  968,\n",
       "  9154,\n",
       "  2273,\n",
       "  8289,\n",
       "  2633,\n",
       "  5773,\n",
       "  5657,\n",
       "  1219],\n",
       " [5089,\n",
       "  9670,\n",
       "  9998,\n",
       "  164,\n",
       "  6992,\n",
       "  1999,\n",
       "  1049,\n",
       "  2771,\n",
       "  8502,\n",
       "  4981,\n",
       "  2894,\n",
       "  4549,\n",
       "  7536,\n",
       "  5270,\n",
       "  3474,\n",
       "  439,\n",
       "  6992,\n",
       "  742,\n",
       "  5773,\n",
       "  795,\n",
       "  2625,\n",
       "  5773,\n",
       "  9308,\n",
       "  8502,\n",
       "  3508,\n",
       "  5810,\n",
       "  485,\n",
       "  9699,\n",
       "  5773,\n",
       "  6944,\n",
       "  5270,\n",
       "  9344,\n",
       "  1638,\n",
       "  995,\n",
       "  6024,\n",
       "  456,\n",
       "  8131,\n",
       "  8131,\n",
       "  9739,\n",
       "  6905,\n",
       "  3474,\n",
       "  1209,\n",
       "  3405,\n",
       "  4940,\n",
       "  977,\n",
       "  6332,\n",
       "  9561,\n",
       "  4567,\n",
       "  6965],\n",
       " [9308, 9456, 291, 9905, 2273, 1074]]"
      ]
     },
     "execution_count": 37,
     "metadata": {},
     "output_type": "execute_result"
    }
   ],
   "source": [
    "#one_hot representation ---\n",
    "voc_size = 10000\n",
    "one_hot_rep = [one_hot(word,voc_size) for word in corpus]\n",
    "one_hot_rep[:5]"
   ]
  },
  {
   "cell_type": "code",
   "execution_count": 38,
   "id": "7867e8b6",
   "metadata": {
    "execution": {
     "iopub.execute_input": "2023-03-31T08:25:22.064793Z",
     "iopub.status.busy": "2023-03-31T08:25:22.064320Z",
     "iopub.status.idle": "2023-03-31T08:25:22.668302Z",
     "shell.execute_reply": "2023-03-31T08:25:22.667385Z"
    },
    "papermill": {
     "duration": 0.62567,
     "end_time": "2023-03-31T08:25:22.671116",
     "exception": false,
     "start_time": "2023-03-31T08:25:22.045446",
     "status": "completed"
    },
    "tags": []
   },
   "outputs": [],
   "source": [
    "#padding of sentences \n",
    "sent_length =50\n",
    "pad_sent = pad_sequences(one_hot_rep,padding='pre',maxlen=sent_length)"
   ]
  },
  {
   "cell_type": "code",
   "execution_count": 39,
   "id": "6eacaadf",
   "metadata": {
    "execution": {
     "iopub.execute_input": "2023-03-31T08:25:22.709577Z",
     "iopub.status.busy": "2023-03-31T08:25:22.708895Z",
     "iopub.status.idle": "2023-03-31T08:25:22.719725Z",
     "shell.execute_reply": "2023-03-31T08:25:22.718298Z"
    },
    "papermill": {
     "duration": 0.033112,
     "end_time": "2023-03-31T08:25:22.722434",
     "exception": false,
     "start_time": "2023-03-31T08:25:22.689322",
     "status": "completed"
    },
    "tags": []
   },
   "outputs": [
    {
     "data": {
      "text/plain": [
       "array([[   0,    0,    0,    0,    0,    0,    0,    0,    0,    0,    0,\n",
       "           0,    0,    0,    0,    0,    0,    0,    0,    0,    0,    0,\n",
       "           0,    0, 8723, 5652, 9670, 9121, 6516, 4312, 4815, 9827, 4660,\n",
       "        9734,   26, 6706, 7926, 4741,  590, 6271, 8998, 1638, 7061, 9479,\n",
       "        9666, 9154, 2273, 4467, 3165, 8886],\n",
       "       [   0,    0,    0,    0,    0,    0,    0,    0,    0,    0,    0,\n",
       "           0,    0,    0,    0,    0,    0,    0,    0,    0,    0,    0,\n",
       "           0,    0,    0,    0,    0,    0,    0,    0,    0,    0,    0,\n",
       "           0,    0,    0,    0,    0,    0, 3213,  565, 2799, 6803, 3165,\n",
       "        3058, 3853,  705, 9154, 2983, 5085],\n",
       "       [   0,    0,    0,    0,    0,    0,    0,    0,    0,    0,    0,\n",
       "           0,    0,    0,    0,    0,    0,    0,    0,    0,    0,    0,\n",
       "           0,    0,    0,    0,    0,    0, 4545, 9465, 3165, 7356, 4507,\n",
       "        5652, 8874, 7243, 2386, 9479, 6332, 2861, 9154, 5652,  968, 9154,\n",
       "        2273, 8289, 2633, 5773, 5657, 1219],\n",
       "       [   0, 5089, 9670, 9998,  164, 6992, 1999, 1049, 2771, 8502, 4981,\n",
       "        2894, 4549, 7536, 5270, 3474,  439, 6992,  742, 5773,  795, 2625,\n",
       "        5773, 9308, 8502, 3508, 5810,  485, 9699, 5773, 6944, 5270, 9344,\n",
       "        1638,  995, 6024,  456, 8131, 8131, 9739, 6905, 3474, 1209, 3405,\n",
       "        4940,  977, 6332, 9561, 4567, 6965],\n",
       "       [   0,    0,    0,    0,    0,    0,    0,    0,    0,    0,    0,\n",
       "           0,    0,    0,    0,    0,    0,    0,    0,    0,    0,    0,\n",
       "           0,    0,    0,    0,    0,    0,    0,    0,    0,    0,    0,\n",
       "           0,    0,    0,    0,    0,    0,    0,    0,    0,    0,    0,\n",
       "        9308, 9456,  291, 9905, 2273, 1074],\n",
       "       [   0,    0,    0,    0,    0,    0,    0,    0,    0,    0,    0,\n",
       "           0,    0,    0,    0,    0,    0,    0,    0,    0,    0,    0,\n",
       "           0,    0,    0,    0,    0,    0,    0,    0,    0,    0,    0,\n",
       "           0,    0,    0,    0,    0,    0,    0,    0,    0,    0,    0,\n",
       "        7145, 9023, 2523, 4404, 9023, 9154],\n",
       "       [   0,    0,    0,    0,    0,    0,    0,    0,    0,    0,    0,\n",
       "           0,    0,    0,    0,    0,    0,    0,    0,    0,    0,    0,\n",
       "           0,    0,    0,    0,    0,    0,    0,    0,    0,    0,    0,\n",
       "           0,    0,    0,    0,    0,    0,    0,    0,    0,    0,    0,\n",
       "           0,    0, 3527, 1826,  373, 8282],\n",
       "       [   0,    0,    0,    0,    0,    0,    0,    0,    0,    0,    0,\n",
       "           0,    0,    0,    0,    0,    0,    0,    0,    0,    0,    0,\n",
       "           0,    0,    0,    0,    0,    0,    0,    0,    0,    0,    0,\n",
       "           0,    0,    0,    0,    0,    0,    0,    0,    0, 2184, 7734,\n",
       "        1904, 8131, 9827, 1638, 7061, 8216],\n",
       "       [   0,    0,    0,    0,    0,    0,    0,    0,    0,    0,    0,\n",
       "        5772, 8643,   31, 6965, 2693, 3165, 1446,  311,  596, 6742, 7220,\n",
       "        2028, 2184, 3165, 6930,  300, 2466, 1199, 2523, 5817, 5270, 4634,\n",
       "         405, 2273,  115, 1263, 5042, 3101,  405, 8679, 4457, 8131,  468,\n",
       "        1219, 9099, 7714,  373, 8203, 6284],\n",
       "       [   0,    0,    0,    0,    0,    0,    0,    0,    0,    0,    0,\n",
       "           0,    0,    0,    0,    0,    0,    0,    0,    0,    0,    0,\n",
       "           0,    0,    0,    0,    0,    0,    0,    0,    0,    0,    0,\n",
       "           0,    0,    0,    0,    0,    0,    0,    0,    0,    0,    0,\n",
       "           0,    0, 8834, 6107, 4987,  360]], dtype=int32)"
      ]
     },
     "execution_count": 39,
     "metadata": {},
     "output_type": "execute_result"
    }
   ],
   "source": [
    "pad_sent[:10]"
   ]
  },
  {
   "cell_type": "code",
   "execution_count": 40,
   "id": "b5612a79",
   "metadata": {
    "execution": {
     "iopub.execute_input": "2023-03-31T08:25:22.759469Z",
     "iopub.status.busy": "2023-03-31T08:25:22.758724Z",
     "iopub.status.idle": "2023-03-31T08:25:23.345527Z",
     "shell.execute_reply": "2023-03-31T08:25:23.344349Z"
    },
    "papermill": {
     "duration": 0.608416,
     "end_time": "2023-03-31T08:25:23.348612",
     "exception": false,
     "start_time": "2023-03-31T08:25:22.740196",
     "status": "completed"
    },
    "tags": []
   },
   "outputs": [],
   "source": [
    "#word embedding----\n",
    "model = Sequential()\n",
    "model.add(Embedding(voc_size,40,input_length=sent_length))\n",
    "model.add(LSTM(100))\n",
    "model.add(Dense(1,'sigmoid'))\n",
    "model.compile(optimizer='adam',loss='binary_crossentropy',metrics=['accuracy'])"
   ]
  },
  {
   "cell_type": "code",
   "execution_count": 41,
   "id": "ec4c7d33",
   "metadata": {
    "execution": {
     "iopub.execute_input": "2023-03-31T08:25:23.385724Z",
     "iopub.status.busy": "2023-03-31T08:25:23.384969Z",
     "iopub.status.idle": "2023-03-31T08:25:23.409329Z",
     "shell.execute_reply": "2023-03-31T08:25:23.408009Z"
    },
    "papermill": {
     "duration": 0.046009,
     "end_time": "2023-03-31T08:25:23.411934",
     "exception": false,
     "start_time": "2023-03-31T08:25:23.365925",
     "status": "completed"
    },
    "tags": []
   },
   "outputs": [
    {
     "name": "stdout",
     "output_type": "stream",
     "text": [
      "Model: \"sequential\"\n",
      "_________________________________________________________________\n",
      " Layer (type)                Output Shape              Param #   \n",
      "=================================================================\n",
      " embedding (Embedding)       (None, 50, 40)            400000    \n",
      "                                                                 \n",
      " lstm (LSTM)                 (None, 100)               56400     \n",
      "                                                                 \n",
      " dense (Dense)               (None, 1)                 101       \n",
      "                                                                 \n",
      "=================================================================\n",
      "Total params: 456,501\n",
      "Trainable params: 456,501\n",
      "Non-trainable params: 0\n",
      "_________________________________________________________________\n"
     ]
    }
   ],
   "source": [
    "model.summary()"
   ]
  },
  {
   "cell_type": "markdown",
   "id": "c63c7b24",
   "metadata": {
    "papermill": {
     "duration": 0.019285,
     "end_time": "2023-03-31T08:25:23.449383",
     "exception": false,
     "start_time": "2023-03-31T08:25:23.430098",
     "status": "completed"
    },
    "tags": []
   },
   "source": [
    "Splitting  of data"
   ]
  },
  {
   "cell_type": "code",
   "execution_count": 42,
   "id": "904376be",
   "metadata": {
    "execution": {
     "iopub.execute_input": "2023-03-31T08:25:23.488145Z",
     "iopub.status.busy": "2023-03-31T08:25:23.486994Z",
     "iopub.status.idle": "2023-03-31T08:25:23.603226Z",
     "shell.execute_reply": "2023-03-31T08:25:23.601798Z"
    },
    "papermill": {
     "duration": 0.138882,
     "end_time": "2023-03-31T08:25:23.606377",
     "exception": false,
     "start_time": "2023-03-31T08:25:23.467495",
     "status": "completed"
    },
    "tags": []
   },
   "outputs": [],
   "source": [
    "x_train,x_test,y_train,y_test = train_test_split(pad_sent,y,test_size=0.30,random_state=42)"
   ]
  },
  {
   "cell_type": "code",
   "execution_count": 43,
   "id": "ace12eb7",
   "metadata": {
    "execution": {
     "iopub.execute_input": "2023-03-31T08:25:23.645975Z",
     "iopub.status.busy": "2023-03-31T08:25:23.644929Z",
     "iopub.status.idle": "2023-03-31T08:25:23.653247Z",
     "shell.execute_reply": "2023-03-31T08:25:23.651721Z"
    },
    "papermill": {
     "duration": 0.03079,
     "end_time": "2023-03-31T08:25:23.655845",
     "exception": false,
     "start_time": "2023-03-31T08:25:23.625055",
     "status": "completed"
    },
    "tags": []
   },
   "outputs": [
    {
     "data": {
      "text/plain": [
       "array([0, 0, 0, ..., 0, 0, 0])"
      ]
     },
     "execution_count": 43,
     "metadata": {},
     "output_type": "execute_result"
    }
   ],
   "source": [
    "y"
   ]
  },
  {
   "cell_type": "code",
   "execution_count": 44,
   "id": "9ec344ce",
   "metadata": {
    "execution": {
     "iopub.execute_input": "2023-03-31T08:25:23.695835Z",
     "iopub.status.busy": "2023-03-31T08:25:23.695412Z",
     "iopub.status.idle": "2023-03-31T08:25:23.703746Z",
     "shell.execute_reply": "2023-03-31T08:25:23.702428Z"
    },
    "papermill": {
     "duration": 0.032219,
     "end_time": "2023-03-31T08:25:23.706628",
     "exception": false,
     "start_time": "2023-03-31T08:25:23.674409",
     "status": "completed"
    },
    "tags": []
   },
   "outputs": [
    {
     "data": {
      "text/plain": [
       "((111699, 50), (111699,))"
      ]
     },
     "execution_count": 44,
     "metadata": {},
     "output_type": "execute_result"
    }
   ],
   "source": [
    "x_train.shape,y_train.shape"
   ]
  },
  {
   "cell_type": "code",
   "execution_count": 45,
   "id": "3405bd61",
   "metadata": {
    "execution": {
     "iopub.execute_input": "2023-03-31T08:25:23.746308Z",
     "iopub.status.busy": "2023-03-31T08:25:23.745891Z",
     "iopub.status.idle": "2023-03-31T08:25:23.753217Z",
     "shell.execute_reply": "2023-03-31T08:25:23.752148Z"
    },
    "papermill": {
     "duration": 0.029965,
     "end_time": "2023-03-31T08:25:23.755668",
     "exception": false,
     "start_time": "2023-03-31T08:25:23.725703",
     "status": "completed"
    },
    "tags": []
   },
   "outputs": [
    {
     "data": {
      "text/plain": [
       "((47872, 50), (47872,))"
      ]
     },
     "execution_count": 45,
     "metadata": {},
     "output_type": "execute_result"
    }
   ],
   "source": [
    "x_test.shape,y_test.shape"
   ]
  },
  {
   "cell_type": "code",
   "execution_count": 46,
   "id": "0c2a06c3",
   "metadata": {
    "execution": {
     "iopub.execute_input": "2023-03-31T08:25:23.794290Z",
     "iopub.status.busy": "2023-03-31T08:25:23.793422Z",
     "iopub.status.idle": "2023-03-31T08:47:51.213564Z",
     "shell.execute_reply": "2023-03-31T08:47:51.212446Z"
    },
    "papermill": {
     "duration": 1348.712698,
     "end_time": "2023-03-31T08:47:52.486625",
     "exception": false,
     "start_time": "2023-03-31T08:25:23.773927",
     "status": "completed"
    },
    "tags": []
   },
   "outputs": [
    {
     "name": "stdout",
     "output_type": "stream",
     "text": [
      "Epoch 1/10\n",
      "1746/1746 [==============================] - 135s 75ms/step - loss: 0.1583 - accuracy: 0.9463 - val_loss: 0.1293 - val_accuracy: 0.9553\n",
      "Epoch 2/10\n",
      "1746/1746 [==============================] - 133s 76ms/step - loss: 0.1104 - accuracy: 0.9593 - val_loss: 0.1290 - val_accuracy: 0.9541\n",
      "Epoch 3/10\n",
      "1746/1746 [==============================] - 133s 76ms/step - loss: 0.0938 - accuracy: 0.9650 - val_loss: 0.1386 - val_accuracy: 0.9546\n",
      "Epoch 4/10\n",
      "1746/1746 [==============================] - 134s 76ms/step - loss: 0.0766 - accuracy: 0.9715 - val_loss: 0.1495 - val_accuracy: 0.9514\n",
      "Epoch 5/10\n",
      "1746/1746 [==============================] - 134s 77ms/step - loss: 0.0612 - accuracy: 0.9772 - val_loss: 0.1787 - val_accuracy: 0.9504\n",
      "Epoch 6/10\n",
      "1746/1746 [==============================] - 134s 77ms/step - loss: 0.0481 - accuracy: 0.9829 - val_loss: 0.2004 - val_accuracy: 0.9431\n",
      "Epoch 7/10\n",
      "1746/1746 [==============================] - 135s 77ms/step - loss: 0.0385 - accuracy: 0.9863 - val_loss: 0.2437 - val_accuracy: 0.9445\n",
      "Epoch 8/10\n",
      "1746/1746 [==============================] - 135s 77ms/step - loss: 0.0296 - accuracy: 0.9894 - val_loss: 0.2636 - val_accuracy: 0.9419\n",
      "Epoch 9/10\n",
      "1746/1746 [==============================] - 137s 79ms/step - loss: 0.0235 - accuracy: 0.9919 - val_loss: 0.3128 - val_accuracy: 0.9406\n",
      "Epoch 10/10\n",
      "1746/1746 [==============================] - 138s 79ms/step - loss: 0.0185 - accuracy: 0.9937 - val_loss: 0.3569 - val_accuracy: 0.9372\n"
     ]
    },
    {
     "data": {
      "text/plain": [
       "<keras.callbacks.History at 0x7f08e84885d0>"
      ]
     },
     "execution_count": 46,
     "metadata": {},
     "output_type": "execute_result"
    }
   ],
   "source": [
    "#fitting model\n",
    "model.fit(x_train,y_train,validation_data=(x_test,y_test),epochs=10,batch_size=64)"
   ]
  },
  {
   "cell_type": "code",
   "execution_count": 47,
   "id": "4b1fce8f",
   "metadata": {
    "execution": {
     "iopub.execute_input": "2023-03-31T08:47:54.846454Z",
     "iopub.status.busy": "2023-03-31T08:47:54.844608Z",
     "iopub.status.idle": "2023-03-31T08:48:16.472266Z",
     "shell.execute_reply": "2023-03-31T08:48:16.470552Z"
    },
    "papermill": {
     "duration": 22.834259,
     "end_time": "2023-03-31T08:48:16.475939",
     "exception": false,
     "start_time": "2023-03-31T08:47:53.641680",
     "status": "completed"
    },
    "tags": []
   },
   "outputs": [
    {
     "name": "stdout",
     "output_type": "stream",
     "text": [
      "1496/1496 [==============================] - 21s 14ms/step\n",
      "0.9372493315508021\n"
     ]
    }
   ],
   "source": [
    "y_pred =(model.predict(x_test)>=0.5).astype(int)\n",
    "print(metrics.accuracy_score(y_test,y_pred))"
   ]
  },
  {
   "cell_type": "code",
   "execution_count": 48,
   "id": "211d2823",
   "metadata": {
    "execution": {
     "iopub.execute_input": "2023-03-31T08:48:18.890096Z",
     "iopub.status.busy": "2023-03-31T08:48:18.889639Z",
     "iopub.status.idle": "2023-03-31T08:48:18.904528Z",
     "shell.execute_reply": "2023-03-31T08:48:18.903136Z"
    },
    "papermill": {
     "duration": 1.243189,
     "end_time": "2023-03-31T08:48:18.907279",
     "exception": false,
     "start_time": "2023-03-31T08:48:17.664090",
     "status": "completed"
    },
    "tags": []
   },
   "outputs": [
    {
     "data": {
      "text/plain": [
       "array([[41785,  1505],\n",
       "       [ 1499,  3083]])"
      ]
     },
     "execution_count": 48,
     "metadata": {},
     "output_type": "execute_result"
    }
   ],
   "source": [
    "metrics.confusion_matrix(y_test,y_pred)"
   ]
  },
  {
   "cell_type": "code",
   "execution_count": null,
   "id": "4fc5e238",
   "metadata": {
    "papermill": {
     "duration": 1.24774,
     "end_time": "2023-03-31T08:48:21.379038",
     "exception": false,
     "start_time": "2023-03-31T08:48:20.131298",
     "status": "completed"
    },
    "tags": []
   },
   "outputs": [],
   "source": []
  }
 ],
 "metadata": {
  "kernelspec": {
   "display_name": "Python 3",
   "language": "python",
   "name": "python3"
  },
  "language_info": {
   "codemirror_mode": {
    "name": "ipython",
    "version": 3
   },
   "file_extension": ".py",
   "mimetype": "text/x-python",
   "name": "python",
   "nbconvert_exporter": "python",
   "pygments_lexer": "ipython3",
   "version": "3.7.12"
  },
  "papermill": {
   "default_parameters": {},
   "duration": 1509.152149,
   "end_time": "2023-03-31T08:48:25.489205",
   "environment_variables": {},
   "exception": null,
   "input_path": "__notebook__.ipynb",
   "output_path": "__notebook__.ipynb",
   "parameters": {},
   "start_time": "2023-03-31T08:23:16.337056",
   "version": "2.4.0"
  }
 },
 "nbformat": 4,
 "nbformat_minor": 5
}
